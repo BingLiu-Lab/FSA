{
 "cells": [
  {
   "cell_type": "markdown",
   "metadata": {},
   "source": [
    "## Code for calculating personalized FSA score\n",
    "\n",
    "This is a demo for generating FSA score in our dataset. Before this step, we need to first preprocess our fMRI data (see ReadMe) and then get preprocessed fMRI image and corresponding fALFF image for each patient.\n",
    "\n",
    "Then use the following script to load our data and materials."
   ]
  },
  {
   "cell_type": "code",
   "execution_count": 1,
   "metadata": {},
   "outputs": [
    {
     "name": "stderr",
     "output_type": "stream",
     "text": [
      "/DATA/237/ali/Software/anaconda2/lib/python2.7/site-packages/scipy/ndimage/interpolation.py:478: UserWarning: The behaviour of affine_transform with a one-dimensional array supplied for the matrix parameter has changed in scipy 0.18.0.\n",
      "  \"The behaviour of affine_transform with a one-dimensional \"\n"
     ]
    }
   ],
   "source": [
    "from nilearn import image, masking\n",
    "import copy\n",
    "import numpy as np\n",
    "from scipy import stats, ndimage\n",
    "import os\n",
    "\n",
    "# load datasets \n",
    "fmri_973 = datasets.fetch_973_fmri(center=1)\n",
    "vbf_973 = datasets.fetch_973_vbf(center=1)\n",
    "subjects = [s for s in vbf_973['subject_index'] if s[:2] == 'SZ' or s[:2] == 'NC'][:50]\n",
    "vbf = np.array(vbf_973['ALFF_GR'])[[vbf_973['subject_index'].index(s) for s in subjects]]\n",
    "fmris = np.array(fmri_973['fMRI_GR'])[[fmri_973['subject_index'].index(s) for s in subjects]]\n",
    "sample = image.load_img(fmris[0])\n",
    "\n",
    "#load materials\n",
    "mask = image.load_img('../mask_ICV_WB.nii')\n",
    "tem6 = image.load_img('../f6.nii')\n",
    "tem8 = image.load_img('../f8.nii')\n",
    "seed_striatum = image.load_img('../striatum.nii')\n",
    "\n",
    "# resample  \n",
    "seed_striatum_res = image.resample_to_img(seed_striatum, sample, interpolation='nearest')\n",
    "mask_res = image.resample_to_img(mask, sample, interpolation='nearest')\n",
    "mask_tem6 = image.resample_to_img(mask, tem6, interpolation='nearest')\n",
    "striatum_mask_res6 = image.resample_to_img(seed_striatum, tem6, interpolation='nearest')\n",
    "striatum_mask_res8 = image.resample_to_img(seed_striatum, tem8, interpolation='nearest')\n",
    "striatum_index = masking.apply_mask(seed_striatum_res, mask_res)\n",
    "striatum_mask_res_data = masking.apply_mask(striatum_mask_res6, mask_tem6)"
   ]
  },
  {
   "cell_type": "markdown",
   "metadata": {},
   "source": [
    "Next, we extracted striatal features from fMRI&fALFF images.\n",
    "\n",
    "Notably, to balance sample size and feature number, we computed intra-striatum FC in the resolution of 8 mm and extra-striatum FC in 6 mm. "
   ]
  },
  {
   "cell_type": "code",
   "execution_count": 3,
   "metadata": {
    "scrolled": true
   },
   "outputs": [
    {
     "name": "stdout",
     "output_type": "stream",
     "text": [
      "Parent process 24021.\n",
      "Waiting for all subprocesses done...\n",
      "Run task 21 (24746)...\n",
      "Run task 1 (24726)...\n",
      "Run task 19 (24744)...\n",
      "Run task 13 (24738)...\n",
      "Run task 8 (24733)...\n",
      "Run task 4 (24729)...\n",
      "Run task 17 (24742)...\n",
      "Run task 14 (24739)...\n",
      "Run task 0 (24725)...\n",
      "Run task 3 (24728)...\n",
      "Run task 11 (24736)...\n",
      "Run task 9 (24734)...\n",
      "Run task 2 (24727)...\n",
      "Run task 10 (24735)...\n",
      "Run task 12 (24737)...\n",
      "Run task 15 (24740)...\n",
      "Run task 23 (24748)...\n",
      "Run task 20 (24745)...\n",
      "Run task 24 (24749)...\n",
      "Run task 18 (24743)...\n",
      "Run task 16 (24741)...\n",
      "Run task 22 (24747)...\n",
      "Run task 5 (24730)...\n",
      "Run task 7 (24732)...\n",
      "Run task 6 (24731)...\n",
      "Run task 8 (24733)...\n",
      "Run task 14 (24739)...\n",
      "Run task 17 (24742)...\n",
      "Run task 11 (24736)...\n",
      "Run task 4 (24729)...\n",
      "Run task 21 (24746)...\n",
      "Run task 9 (24734)...\n",
      "Run task 13 (24738)...\n",
      "Run task 10 (24735)...\n",
      "Run task 0 (24725)...\n",
      "Run task 20 (24745)...\n",
      "Run task 1 (24726)...\n",
      "Run task 24 (24749)...\n",
      "Run task 19 (24744)...\n",
      "Run task 3 (24728)...\n",
      "Run task 23 (24748)...\n",
      "Run task 12 (24737)...\n",
      "Run task 22 (24747)...\n",
      "Run task 2 (24727)...\n",
      "Run task 18 (24743)...\n",
      "Run task 15 (24740)...\n",
      "Run task 7 (24732)...\n",
      "Run task 16 (24741)...\n",
      "Run task 5 (24730)...\n",
      "Run task 6 (24731)...\n",
      "All subprocesses done.\n"
     ]
    }
   ],
   "source": [
    "import joblib\n",
    "\n",
    "save_path = '../FSA_candidates'\n",
    "def generate_FSA_candidates(name, fmris, vbf, subjects):\n",
    "    \n",
    "    \"\"\"\n",
    "    A function that parallelly extracting each individual's fMRI features to \n",
    "    further compute FSA score \n",
    "    \n",
    "    \"\"\"\n",
    "    \n",
    "    for n, (fmri, falff, s) in enumerate(zip(fmris, vbf, subjects)):\n",
    "        f_file = fmri\n",
    "        f_img_uns = image.load_img(f_file)\n",
    "        # applying smooth when using voxel-wise features\n",
    "        f_img = image.smooth_img(f_img_uns, fwhm=6)\n",
    "        fmri_data_uns = masking.apply_mask(f_img_uns, mask_res)\n",
    "        fmri_data = masking.apply_mask(f_img, mask_res)\n",
    "        fmri_data[np.isnan(fmri_data)] = 0\n",
    "        \n",
    "        # extracting extra-striatum FC\n",
    "        ts_striatum = np.mean(fmri_data_uns * striatum_index, axis=1)\n",
    "        corr_striatum = np.zeros_like(striatum_index)\n",
    "        for i in range(fmri_data.shape[1]):\n",
    "            corr_striatum[i] = stats.pearsonr(ts_striatum, fmri_data[:, i])[0]\n",
    "        corr_img = masking.unmask(corr_striatum, mask_res)\n",
    "        corr_img_tem6 = image.resample_to_img(corr_img, tem6)\n",
    "        str_corr = masking.apply_mask(corr_img_tem6, mask_tem6)\n",
    "        str_corr[np.isnan(str_corr)] = 0\n",
    "        corr_striatum_other = str_corr[striatum_mask_res_data == 0]\n",
    "\n",
    "        # extracting intra-striatum FC\n",
    "        f_img_res = image.resample_to_img(f_img, tem8)\n",
    "        ts_str = masking.apply_mask(f_img_res, striatum_mask_res8)\n",
    "        corr = np.corrcoef(ts_str.T)\n",
    "        fc_str = corr[np.tril_indices_from(corr, -1)]\n",
    "        # extracting fALFF\n",
    "        striatum_seed_res = image.resample_to_img(target_img=falff, source_img=seed_striatum, interpolation='nearest')\n",
    "        alff = masking.apply_mask(falff, mask_img=striatum_seed_res)\n",
    "\n",
    "        fc = np.concatenate([alff, corr_striatum_other, fc_str])\n",
    "        print('Run task %s (%s)...' % (name, os.getpid()))\n",
    "        joblib.dump(fc, os.path.join(save_path, s + '_candidates.pkl'))\n",
    "        \n",
    "if __name__=='__main__':\n",
    "    print('Parent process %s.' % os.getpid())\n",
    "    kernels = 25\n",
    "    batch = len(subjects) / kernels\n",
    "    p = Pool(kernels)\n",
    "    subs = [[sub for sub in subjects[batch * i: batch * i + batch]] for i in range(kernels)]\n",
    "    fmri_files = [[f for f in fmris[batch * i: batch * i + batch]] for i in range(kernels)]\n",
    "    vbf_files = [[f for f in vbf[batch * i: batch * i +batch]] for i in range(kernels)]\n",
    "    for i in range(kernels):\n",
    "        p.apply_async(generate_FSA_candidates, args=(i, fmri_files[i], vbf_files[i], subs[i]))\n",
    "    print('Waiting for all subprocesses done...')\n",
    "    p.close()\n",
    "    p.join()\n",
    "    print('All subprocesses done.')"
   ]
  },
  {
   "cell_type": "markdown",
   "metadata": {},
   "source": [
    "Finally, the personalized FSA score was computed as each individual's distance to SVM hyperplane. "
   ]
  },
  {
   "cell_type": "code",
   "execution_count": 20,
   "metadata": {},
   "outputs": [
    {
     "name": "stdout",
     "output_type": "stream",
     "text": [
      "0.96\n",
      "[ 1.0253824   1.02322132 -0.98628936  0.3041096   0.99673155 -0.88249479\n",
      "  0.98898912 -0.98016657  1.40044007  1.00739396  1.01340555  1.39798684\n",
      " -0.96361039 -1.01322722 -1.01986687 -0.98245666 -0.99815214 -1.0231223\n",
      " -1.01360945  1.10266417  0.89289263  1.0088927  -0.99235743  0.98389349\n",
      "  1.83938481  0.54326621 -0.99429394 -1.3834942  -0.98599612  0.98531606\n",
      " -1.22047699 -0.42285164  1.01983302  0.99141984  1.00293613 -0.33026515\n",
      " -0.99218734  0.94209741  0.98268963  1.02264916  1.00687717  1.00732661\n",
      "  0.98543159  1.01866249 -0.96500253  0.67487582 -0.99472199 -0.98630546\n",
      " -0.98639421  0.22021234]\n"
     ]
    }
   ],
   "source": [
    "import joblib\n",
    "from sklearn.metrics import accuracy_score\n",
    "\n",
    "# load precomputed striatal features \n",
    "fc = np.zeros([len(subjects), 12689])\n",
    "for i, s in enumerate(subjects):\n",
    "    fc[i, :] = joblib.load(os.path.join(save_path, s + '_candidates.pkl'))\n",
    "\n",
    "# load pre-trained model of standardizing features by all samples from 7 sites\n",
    "prep = joblib.load('../model_pre_final.m')\n",
    "\n",
    "# load pre-trained model trained by all samples from 7 sites\n",
    "svc = joblib.load('../model_final.m')\n",
    "predict = svc.predict(prep.transform(fc))\n",
    "test = np.array([1 if s[:2] == 'NC' else -1 for s in subjects])\n",
    "print accuracy_score(predict, test)\n",
    "FSA = svc.decision_function(prep.transform(fc))"
   ]
  }
 ],
 "metadata": {
  "kernelspec": {
   "display_name": "Python 2",
   "language": "python",
   "name": "python2"
  },
  "language_info": {
   "codemirror_mode": {
    "name": "ipython",
    "version": 2
   },
   "file_extension": ".py",
   "mimetype": "text/x-python",
   "name": "python",
   "nbconvert_exporter": "python",
   "pygments_lexer": "ipython2",
   "version": "2.7.13"
  }
 },
 "nbformat": 4,
 "nbformat_minor": 1
}
